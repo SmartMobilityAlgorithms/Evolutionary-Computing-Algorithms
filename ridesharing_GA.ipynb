{
 "cells": [
  {
   "cell_type": "markdown",
   "metadata": {},
   "source": [
    "**Problem definition:**\\\n",
    "The Drop off ridesharing problem is researched. The problem is formulated into a mathematical model with decision variables, an objective functions and constrains. The Genetic Algorithm (GA) algorithm is implemented to solve this problem. An experiment with the real world data sets is done to test the performance of this algorithm. \n",
    "It is required to generate an optimal schedule for each dropoff to serve the passengers of Toronto in such a way that optimizes at least two of the following criteria, preferably all:\n",
    "\n",
    "• Minimizing the total number of SAVs required.\\\n",
    "• Minimizing the total travel distance/time of SAVs’ trips.\\\n",
    "• Minimizing the total travel time of passengers’ trips.\\\n",
    "• Maximizing the number of matched (served) requests.\\\n",
    "• Minimizing the cost for the SAVs’ trips/loss during uncharged driving\\\n",
    "• Maximizing the SAV's earning/total profit.\\\n",
    "• Minimizing the cost for the passengers’ trips.\\\n",
    "• Minimizing passenger’s waiting time.\\\n",
    "• Balancing the routes of SAV load.\\"
   ]
  },
  {
   "cell_type": "code",
   "execution_count": 1,
   "metadata": {},
   "outputs": [],
   "source": [
    "import pandas as pd\n",
    "import math\n",
    "import numpy as np\n",
    "import random\n",
    "import time\n",
    "import matplotlib.pyplot as plt\n",
    "import osmnx as ox\n",
    "from utilities import *"
   ]
  },
  {
   "cell_type": "code",
   "execution_count": 2,
   "metadata": {},
   "outputs": [
    {
     "data": {
      "text/html": [
       "<div>\n",
       "<style scoped>\n",
       "    .dataframe tbody tr th:only-of-type {\n",
       "        vertical-align: middle;\n",
       "    }\n",
       "\n",
       "    .dataframe tbody tr th {\n",
       "        vertical-align: top;\n",
       "    }\n",
       "\n",
       "    .dataframe thead th {\n",
       "        text-align: right;\n",
       "    }\n",
       "</style>\n",
       "<table border=\"1\" class=\"dataframe\">\n",
       "  <thead>\n",
       "    <tr style=\"text-align: right;\">\n",
       "      <th></th>\n",
       "      <th>Longitude</th>\n",
       "      <th>Latitude</th>\n",
       "      <th>Address</th>\n",
       "    </tr>\n",
       "  </thead>\n",
       "  <tbody>\n",
       "    <tr>\n",
       "      <th>0</th>\n",
       "      <td>-79.389653</td>\n",
       "      <td>43.669624</td>\n",
       "      <td>Bay Station</td>\n",
       "    </tr>\n",
       "    <tr>\n",
       "      <th>1</th>\n",
       "      <td>-79.379568</td>\n",
       "      <td>43.768544</td>\n",
       "      <td>Bessarion Station</td>\n",
       "    </tr>\n",
       "    <tr>\n",
       "      <th>2</th>\n",
       "      <td>-79.368367</td>\n",
       "      <td>43.673658</td>\n",
       "      <td>Castle Frank Station</td>\n",
       "    </tr>\n",
       "    <tr>\n",
       "      <th>3</th>\n",
       "      <td>-79.418020</td>\n",
       "      <td>43.663659</td>\n",
       "      <td>Christie Station</td>\n",
       "    </tr>\n",
       "    <tr>\n",
       "      <th>4</th>\n",
       "      <td>-79.323692</td>\n",
       "      <td>43.683357</td>\n",
       "      <td>Coxwell Station</td>\n",
       "    </tr>\n",
       "    <tr>\n",
       "      <th>5</th>\n",
       "      <td>-79.346952</td>\n",
       "      <td>43.775110</td>\n",
       "      <td>Don Mills Station</td>\n",
       "    </tr>\n",
       "    <tr>\n",
       "      <th>6</th>\n",
       "      <td>-79.462910</td>\n",
       "      <td>43.750348</td>\n",
       "      <td>Downsview Station</td>\n",
       "    </tr>\n",
       "    <tr>\n",
       "      <th>7</th>\n",
       "      <td>-79.380984</td>\n",
       "      <td>43.656363</td>\n",
       "      <td>Dundas Station</td>\n",
       "    </tr>\n",
       "    <tr>\n",
       "      <th>8</th>\n",
       "      <td>-79.407034</td>\n",
       "      <td>43.674731</td>\n",
       "      <td>Dupont Station</td>\n",
       "    </tr>\n",
       "    <tr>\n",
       "      <th>9</th>\n",
       "      <td>-79.415660</td>\n",
       "      <td>43.780174</td>\n",
       "      <td>Finch Station</td>\n",
       "    </tr>\n",
       "    <tr>\n",
       "      <th>10</th>\n",
       "      <td>-79.437718</td>\n",
       "      <td>43.698421</td>\n",
       "      <td>Eglinton West Station</td>\n",
       "    </tr>\n",
       "    <tr>\n",
       "      <th>11</th>\n",
       "      <td>-79.264469</td>\n",
       "      <td>43.732753</td>\n",
       "      <td>Kennedy Station</td>\n",
       "    </tr>\n",
       "    <tr>\n",
       "      <th>12</th>\n",
       "      <td>-79.337468</td>\n",
       "      <td>43.680396</td>\n",
       "      <td>Donlands Station</td>\n",
       "    </tr>\n",
       "    <tr>\n",
       "      <th>13</th>\n",
       "      <td>-79.534879</td>\n",
       "      <td>43.638253</td>\n",
       "      <td>Kipling Station</td>\n",
       "    </tr>\n",
       "    <tr>\n",
       "      <th>14</th>\n",
       "      <td>-79.464369</td>\n",
       "      <td>43.653746</td>\n",
       "      <td>High Park Station</td>\n",
       "    </tr>\n",
       "    <tr>\n",
       "      <th>15</th>\n",
       "      <td>-79.398022</td>\n",
       "      <td>43.704901</td>\n",
       "      <td>Eglinton Station</td>\n",
       "    </tr>\n",
       "  </tbody>\n",
       "</table>\n",
       "</div>"
      ],
      "text/plain": [
       "    Longitude   Latitude                Address\n",
       "0  -79.389653  43.669624           Bay Station \n",
       "1  -79.379568  43.768544     Bessarion Station \n",
       "2  -79.368367  43.673658   Castle Frank Station\n",
       "3  -79.418020  43.663659      Christie Station \n",
       "4  -79.323692  43.683357       Coxwell Station \n",
       "5  -79.346952  43.775110      Don Mills Station\n",
       "6  -79.462910  43.750348     Downsview Station \n",
       "7  -79.380984  43.656363        Dundas Station \n",
       "8  -79.407034  43.674731        Dupont Station \n",
       "9  -79.415660  43.780174         Finch Station \n",
       "10 -79.437718  43.698421  Eglinton West Station\n",
       "11 -79.264469  43.732753       Kennedy Station \n",
       "12 -79.337468  43.680396      Donlands Station \n",
       "13 -79.534879  43.638253       Kipling Station \n",
       "14 -79.464369  43.653746      High Park Station\n",
       "15 -79.398022  43.704901      Eglinton Station "
      ]
     },
     "execution_count": 2,
     "metadata": {},
     "output_type": "execute_result"
    }
   ],
   "source": [
    "# You can use different excel data\n",
    "#file_path = './data/Maven_stations_saved.csv'\n",
    "file_path = './data/Dropoff_locations.csv'\n",
    "df = pd.read_csv(file_path)\n",
    "numberOfStops = len(df)\n",
    "df"
   ]
  },
  {
   "cell_type": "code",
   "execution_count": 3,
   "metadata": {},
   "outputs": [],
   "source": [
    "# store the values into a numpy array\n",
    "addresses  = df.iloc[:, 2].values"
   ]
  },
  {
   "cell_type": "code",
   "execution_count": 4,
   "metadata": {},
   "outputs": [
    {
     "data": {
      "text/plain": [
       "[Name: Bay ID: 25991314,\n",
       " Name: Bessarion ID: 5318484724,\n",
       " Name: Castle Frank Station ID: 432581398,\n",
       " Name: Christie ID: 5262888213,\n",
       " Name: Coxwell Station ID: 7100591226,\n",
       " Name: Don Mills Station ID: 1246332677,\n",
       " Name: Sheppard West ID: 420561530,\n",
       " Name: Dundas ID: 249641649,\n",
       " Name: Dupont ID: 5320349317,\n",
       " Name: (Finch Station) ID: 582990836,\n",
       " Name: Eglinton West Station ID: 6592347255,\n",
       " Name: Kennedy Station ID: 5593394546,\n",
       " Name: Donlands ID: 55639063,\n",
       " Name: Kipling Station ID: 4597249809,\n",
       " Name: High Park Station ID: 2883464892,\n",
       " Name: Eglinton Station ID: 2266180445]"
      ]
     },
     "execution_count": 4,
     "metadata": {},
     "output_type": "execute_result"
    }
   ],
   "source": [
    "POIS = []\n",
    "for address in addresses:\n",
    "    POIS.append(poi(address,\"canada\"))\n",
    "POIS"
   ]
  },
  {
   "cell_type": "code",
   "execution_count": 5,
   "metadata": {},
   "outputs": [
    {
     "data": {
      "application/vnd.jupyter.widget-view+json": {
       "model_id": "c1d7566c028d49149dab9f826cca0ff1",
       "version_major": 2,
       "version_minor": 0
      },
      "text/plain": [
       "Map(center=[43.67628716875, -79.43114413142783], close_popup_on_click=False, controls=(ZoomControl(options=['p…"
      ]
     },
     "metadata": {},
     "output_type": "display_data"
    }
   ],
   "source": [
    "drawPOIS(POIS, zoom=10)"
   ]
  },
  {
   "cell_type": "code",
   "execution_count": 6,
   "metadata": {},
   "outputs": [],
   "source": [
    "G = nx.DiGraph()\n",
    "G.add_nodes_from(POIS)"
   ]
  },
  {
   "cell_type": "code",
   "execution_count": 7,
   "metadata": {},
   "outputs": [],
   "source": [
    "# this will take 1-2 minutes because you need to find\n",
    "# two routes between each pair of POIs\n",
    "durations = []\n",
    "for source in G.nodes():\n",
    "    duration = []\n",
    "    for destination in G.nodes():\n",
    "        if source == destination: \n",
    "            duration.append(0)\n",
    "            continue\n",
    "        G.add_edge(source, destination, route = source.route_to(destination))\n",
    "        route = source.route_to(destination)\n",
    "        duration.append(route['duration'])\n",
    "    durations.append(duration)"
   ]
  },
  {
   "cell_type": "code",
   "execution_count": 8,
   "metadata": {},
   "outputs": [
    {
     "data": {
      "text/plain": [
       "array([[   0. , 1243.5,  238.3,  306.9,  697.6, 1168.4, 1199.4, 3785.4,\n",
       "         239.3, 1514.5,  730.3, 1339.4,  552.2, 1288.7,  765.1,  544.4],\n",
       "       [1238. ,    0. ,  999.9, 1293.3, 1111.1,  281.2,  704.9, 4108.7,\n",
       "        1250. ,  554.5,  747.6,  952.6, 1029. , 1624.1, 1310.6,  890.1],\n",
       "       [ 238.1, 1095.4,    0. ,  501.8,  459.3,  930.1, 1363.6, 3820.4,\n",
       "         404.9, 1521.9,  894.5, 1101.1,  313.9, 1323.7,  960. ,  664.3],\n",
       "       [ 334.6, 1212.7,  529.7,    0. ,  989. , 1455.4, 1031.3, 3719.1,\n",
       "         225.6, 1545.8,  562.2, 1630.8,  843.6, 1121.7,  497. ,  723. ],\n",
       "       [ 697.4, 1076.6,  459.3,  961.1,    0. ,  911.3, 1575.1, 4029.4,\n",
       "         864.2, 1503.1, 1223.3,  924.1,  170.8, 1532.7, 1282.9, 1049.5],\n",
       "       [1241.8,  249.7, 1003.7, 1435.9, 1114.9,    0. ,  882.1, 4251.3,\n",
       "        1392.6,  768. ,  890.2,  927.9, 1032.8, 1766.7, 1453.2, 1032.7],\n",
       "       [1211.8,  692.1, 1378.5, 1063.1, 1615.8,  964.2,    0. , 3953.2,\n",
       "        1019.8,  835.9,  517.4, 1457.3, 1533.7, 1468.6, 1137.5,  932.8],\n",
       "       [3762.5, 4007.5, 3792.2, 3692.7, 3999.5, 4250.2, 3915.4,    0. ,\n",
       "        3722.6, 4340.6, 3824.3, 4536.9, 3970.6, 3024. , 3329.9, 4192.1],\n",
       "       [ 224.2, 1164.9,  404.6,  240. ,  863.9, 1301.6, 1004.1, 3766.3,\n",
       "           0. , 1488.2,  535. , 1472.6,  718.5, 1165.9,  603.8,  518.1],\n",
       "       [1507.7,  574.6, 1451. , 1562.6, 1562.2,  791.9,  832.1, 4378. ,\n",
       "        1507.2,    0. , 1016.9, 1421.9, 1480.1, 1893.4, 1579.9, 1127. ],\n",
       "       [1002.4,  650.5, 1169.1,  853.7, 1506.5,  893.2,  469.1, 3921.5,\n",
       "         810.4,  983.6,    0. , 1353.2, 1377.3, 1375. ,  910.6,  723.4],\n",
       "       [1290.8,  958.5, 1052.7, 1554.5,  930.4,  872.9, 1457. , 4625.2,\n",
       "        1457.6, 1385. , 1442.6,    0. , 1027.5, 2128.5, 1878.7, 1268.8],\n",
       "       [ 548.7, 1000.3,  310.6,  812.4,  174. ,  835. , 1498.8, 3994.2,\n",
       "         715.5, 1426.8, 1079.7, 1006. ,    0. , 1497.5, 1247.7,  905.9],\n",
       "       [1335.1, 1516.6, 1364.8, 1091.8, 1572.1, 1759.3, 1424.5, 2998.9,\n",
       "        1153.1, 1849.7, 1106.2, 2109.5, 1543.2,    0. ,  628.2, 1427.8],\n",
       "       [ 768.2, 1290.8,  963.3,  489.3, 1283.2, 1533.5, 1126.2, 3345.2,\n",
       "         605.8, 1623.9,  657.1, 1820.6, 1254.3,  643.9,    0. ,  978.7],\n",
       "       [ 546.5,  871.3,  670.7,  769.7, 1043.7, 1114. ,  897.5, 4262.9,\n",
       "         546. , 1142.3,  428.4, 1509.5,  898.9, 1492. , 1027.6,    0. ]])"
      ]
     },
     "execution_count": 8,
     "metadata": {},
     "output_type": "execute_result"
    }
   ],
   "source": [
    "trip = np.array(durations)\n",
    "trip"
   ]
  },
  {
   "cell_type": "code",
   "execution_count": 9,
   "metadata": {},
   "outputs": [],
   "source": [
    "# define a function that can compute the fitness value of each solution in the population\n",
    "def cal_pop_objective_1(m, pop):\n",
    "    M = np.zeros([8,numberOfStops-1])\n",
    "    fitness = np.zeros(8)\n",
    "    for i in range(8):\n",
    "        for j in range(numberOfStops-1):\n",
    "            M[i,j] = m[pop[i,j]-1,pop[i,j+1]-1]\n",
    "    for k in range(8):\n",
    "        fitness[k] = np.sum(M[k])\n",
    "    return fitness\n"
   ]
  },
  {
   "cell_type": "code",
   "execution_count": 10,
   "metadata": {},
   "outputs": [],
   "source": [
    "# define a function that can select the best individuals in the current generation as the parents to produce the offsprings\n",
    "def select_mating(pop, fitness, num_parents):\n",
    "    parents = np.zeros([num_parents, pop.shape[1]])\n",
    "    for parent_num in range(num_parents):\n",
    "        min_fitness_index = np.where(fitness == np.min(fitness))\n",
    "        min_fitness_index = min_fitness_index[0][0]\n",
    "        parents[parent_num, :] = pop[min_fitness_index, :]\n",
    "        fitness[min_fitness_index] = 999999999\n",
    "    return parents\n"
   ]
  },
  {
   "cell_type": "code",
   "execution_count": 11,
   "metadata": {},
   "outputs": [],
   "source": [
    "# implementation of order 1 crossover\n",
    "def crossover(mum, dad):\n",
    "    size = len(mum)\n",
    "\n",
    "    # select random start/end position for crossover\n",
    "    alice, bob = [-1] * size, [-1] * size\n",
    "    start, end = sorted([random.randrange(size) for _ in range(2)])\n",
    "\n",
    "    # replicate mum's sequence for alice\n",
    "    alice_inherited = []\n",
    "    for i in range(start, end + 1):\n",
    "        alice[i] = mum[i]\n",
    "        alice_inherited.append(mum[i])\n",
    "\n",
    "    current_dad_position, current_mum_position = 0, 0\n",
    "\n",
    "    fixed_pos = list(range(start, end + 1))\n",
    "    i = 0\n",
    "    while i < size:\n",
    "        if i in fixed_pos:\n",
    "            i += 1\n",
    "            continue\n",
    "        test_alice = alice[i]\n",
    "        if test_alice==-1:\n",
    "            dad_trait = dad[current_dad_position]\n",
    "            while dad_trait in alice_inherited:\n",
    "                dad_trait = dad[current_dad_position]\n",
    "                current_dad_position += 1\n",
    "            alice[i] = dad_trait\n",
    "            alice_inherited.append(dad_trait)\n",
    "        i += 1\n",
    "    return alice\n"
   ]
  },
  {
   "cell_type": "code",
   "execution_count": 12,
   "metadata": {},
   "outputs": [],
   "source": [
    "# implementation of swap mutation\n",
    "def mutation(offspring_crossover):\n",
    "    a = random.randint(0,numberOfStops-1)\n",
    "    b = random.randint(0,numberOfStops-1)\n",
    "    for i in range(offspring_crossover.shape[0]):\n",
    "        mut_1 = offspring_crossover[i,a]\n",
    "        mut_2 = offspring_crossover[i,b]\n",
    "        offspring_crossover[i,a] = mut_2\n",
    "        offspring_crossover[i,b] = mut_1\n",
    "    return offspring_crossover\n"
   ]
  },
  {
   "cell_type": "code",
   "execution_count": 13,
   "metadata": {},
   "outputs": [],
   "source": [
    "\"implementation of genetic algorithm on SAV ride sharing problem\"\n",
    "\n",
    "# ga parameters\n",
    "sol_per_pop = 8\n",
    "num_parents_mating = 4\n",
    "num_offsprings = 4\n",
    "\n",
    "# define population size and offspring size\n",
    "pop_size = (sol_per_pop, trip.shape[1])\n",
    "offspring_size = (num_offsprings, trip.shape[1])\n",
    "\n",
    "# generate the initial population\n",
    "new_population = np.zeros(pop_size)\n",
    "for i in range(8):\n",
    "    new_population[i] = np.arange(1,numberOfStops+1)\n",
    "    random.shuffle(new_population[i])\n",
    "new_population = new_population.astype(int)\n",
    "\n",
    "best_outputs = []\n",
    "num_of_generation = 50000\n",
    "\n",
    "running_time = np.zeros(num_of_generation)\n",
    "\n",
    "for generation in range(num_of_generation):\n",
    "\n",
    "    # record the starting time\n",
    "    start_time = time.time()\n",
    "\n",
    "    # compute the fitness of each individual in the population\n",
    "    fitness = cal_pop_objective_1(trip, new_population)\n",
    "\n",
    "    # record the best fitness in the current generation\n",
    "    best_outputs.append(np.min(fitness))\n",
    "\n",
    "    # select the best 4 individuals in the population as parents for mating\n",
    "    parents = select_mating(new_population, fitness, num_parents_mating)\n",
    "\n",
    "    # generate offsprings using crossover\n",
    "    offspring_crossover = np.zeros(offspring_size)\n",
    "    r_1 = np.random.random()\n",
    "    if r_1 < 0.7: # crossover probability = 0.7\n",
    "        offspring_crossover[0] = crossover(parents[0], parents[1])\n",
    "        offspring_crossover[1] = crossover(parents[1], parents[0])\n",
    "        offspring_crossover[2] = crossover(parents[2], parents[3])\n",
    "        offspring_crossover[3] = crossover(parents[3], parents[2])\n",
    "    else:\n",
    "        offspring_crossover[0] = parents[0]\n",
    "        offspring_crossover[1] = parents[1]\n",
    "        offspring_crossover[2] = parents[2]\n",
    "        offspring_crossover[3] = parents[3]\n",
    "\n",
    "    # offsprings mutation\n",
    "    r_2 = np.random.random()\n",
    "    if r_2 < 0.05: # mutation probability = 0.05\n",
    "        offspring_mutation = mutation(offspring_crossover)\n",
    "    else:\n",
    "        offspring_mutation = offspring_crossover\n",
    "\n",
    "    # generate the new population based on parents and offsprings\n",
    "    new_population[0:parents.shape[0], :] = parents\n",
    "    new_population[parents.shape[0]:, :] = offspring_mutation\n",
    "\n",
    "    # compute and store the running time\n",
    "    running_time[generation] = time.time() - start_time\n"
   ]
  },
  {
   "cell_type": "code",
   "execution_count": 14,
   "metadata": {},
   "outputs": [
    {
     "name": "stdout",
     "output_type": "stream",
     "text": [
      "Best solution: [[[ 8 14 15 16 11  7 10  2  6  1  4  9  3 13  5 12]\n",
      "  [ 8 14 15 16 11  7 10  2  6  1  4  9  3 13  5 12]\n",
      "  [ 8 14 15 16 11  7 10  2  6  1  4  9  3 13  5 12]\n",
      "  [ 8 14 15 16 11  7 10  2  6  1  4  9  3 13  5 12]\n",
      "  [ 8 14 15 16 11  7 10  2  6  1  4  9  3 13  5 12]\n",
      "  [ 8 14 15 16 11  7 10  2  6  1  4  9  3 13  5 12]\n",
      "  [ 8 14 15 16 11  7 10  2  6  1  4  9  3 13  5 12]\n",
      "  [ 8 14 15 16 11  7 10  2  6  1  4  9  3 13  5 12]]]\n",
      "Best fitness: [10811. 10811. 10811. 10811. 10811. 10811. 10811. 10811.]\n",
      "The algorithm converges in 10747 iterations.\n",
      "The algorithm converges in 3.04986834526062 seconds.\n"
     ]
    }
   ],
   "source": [
    "# get the best solution after iterating all the generations\n",
    "# compute the fitness of each individual in the final generation\n",
    "fitness = cal_pop_objective_1(trip, new_population)\n",
    "# return the index of the solution corresponding to the best fitness\n",
    "best_index = np.where(fitness == np.min(fitness))\n",
    "\n",
    "running_time = running_time.cumsum()\n",
    "\n",
    "# to get the index of iteration when the fitness reaches its minimum value (convergence point of the algorithm)\n",
    "convergence_index = np.where(best_outputs == np.min(best_outputs))\n",
    "convergence_time = running_time[convergence_index]\n",
    "\n",
    "print(\"Best solution:\", new_population[best_index, :])\n",
    "print(\"Best fitness:\", fitness[best_index])\n",
    "print(\"The algorithm converges in\", np.min(convergence_index), \"iterations.\")\n",
    "print(\"The algorithm converges in\", np.min(convergence_time), \"seconds.\")\n"
   ]
  },
  {
   "cell_type": "code",
   "execution_count": 15,
   "metadata": {},
   "outputs": [
    {
     "data": {
      "image/png": "[encoded data removed]",
      "text/plain": [
       "<Figure size 576x1008 with 2 Axes>"
      ]
     },
     "metadata": {
      "needs_background": "light"
     },
     "output_type": "display_data"
    }
   ],
   "source": [
    "fig, ax = plt.subplots(2, figsize = (8,numberOfStops-2))\n",
    "ax[0].plot(best_outputs, 'green')\n",
    "ax[0].set_xlabel(\"Iteration\", fontsize = 10)\n",
    "ax[0].set_ylabel(\"Fitness\", fontsize = 10)\n",
    "ax[0].set_title(\"GA (Fitness vs # of iterations)   1 station\", fontsize = 12)\n",
    "\n",
    "ax[1].plot(running_time, best_outputs, 'red')\n",
    "ax[1].set_xlabel(\"Running time/s\", fontsize = 10)\n",
    "ax[1].set_ylabel(\"Fitness\", fontsize = 10)\n",
    "ax[1].set_title(\"GA (Fitness vs Running time)   1 station\", fontsize = 12)\n",
    "plt.show()"
   ]
  },
  {
   "cell_type": "code",
   "execution_count": 16,
   "metadata": {},
   "outputs": [
    {
     "name": "stdout",
     "output_type": "stream",
     "text": [
      "1\n",
      "2\n",
      "3\n",
      "4\n",
      "5\n",
      "6\n",
      "7\n",
      "8\n",
      "9\n",
      "10\n",
      "11\n",
      "12\n",
      "13\n",
      "14\n"
     ]
    },
    {
     "data": {
      "application/vnd.jupyter.widget-view+json": {
       "model_id": "49a05eba641b427999c711cb545fb222",
       "version_major": 2,
       "version_minor": 0
      },
      "text/plain": [
       "Map(center=[43.769137, -79.376669], controls=(ZoomControl(options=['position', 'zoom_in_text', 'zoom_in_title'…"
      ]
     },
     "metadata": {},
     "output_type": "display_data"
    }
   ],
   "source": [
    "#Visualization\n",
    "optimalRoute = new_population[best_index, :]\n",
    "optimalRoute = optimalRoute[0][0]\n",
    "optimalRoute[0]\n",
    "currentRoute = G[POIS[optimalRoute[0]]][POIS[optimalRoute[1]]]['route']['coords']\n",
    "for i in range(1,len(optimalRoute)-1):\n",
    "    currentRoute += G[POIS[optimalRoute[i]-1]][POIS[optimalRoute[i+1]-1]]['route']['coords']\n",
    "drawRoute(currentRoute)"
   ]
  },
  {
   "cell_type": "code",
   "execution_count": null,
   "metadata": {},
   "outputs": [],
   "source": []
  }
 ],
 "metadata": {
  "kernelspec": {
   "display_name": "Python 3",
   "language": "python",
   "name": "python3"
  },
  "language_info": {
   "codemirror_mode": {
    "name": "ipython",
    "version": 3
   },
   "file_extension": ".py",
   "mimetype": "text/x-python",
   "name": "python",
   "nbconvert_exporter": "python",
   "pygments_lexer": "ipython3",
   "version": "3.6.9"
  }
 },
 "nbformat": 4,
 "nbformat_minor": 4
}
